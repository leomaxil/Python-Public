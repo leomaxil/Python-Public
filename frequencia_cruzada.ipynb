{
 "cells": [
  {
   "cell_type": "code",
   "execution_count": null,
   "metadata": {},
   "outputs": [],
   "source": [
    "from frequencia_cruzada import cfreq\n",
    "#Exemplos\n",
    "import pandas as pd\n",
    "import numpy as np\n",
    "import seaborn as sns\n",
    "\n",
    "\n",
    "df = sns.load_dataset(\"tips\")"
   ]
  },
  {
   "cell_type": "code",
   "execution_count": 8,
   "metadata": {},
   "outputs": [
    {
     "data": {
      "application/vnd.microsoft.datawrangler.viewer.v0+json": {
       "columns": [
        {
         "name": "smoker",
         "rawType": "object",
         "type": "string"
        },
        {
         "name": "Female",
         "rawType": "object",
         "type": "string"
        },
        {
         "name": "Male",
         "rawType": "object",
         "type": "string"
        },
        {
         "name": "TOTAL",
         "rawType": "int32",
         "type": "integer"
        }
       ],
       "conversionMethod": "pd.DataFrame",
       "ref": "ed7ebdd5-8b99-42a2-b2df-b15aa158d8f6",
       "rows": [
        [
         "No",
         "54 [62.07]",
         "97 [61.78]",
         "151"
        ],
        [
         "Yes",
         "33 [37.93]",
         "60 [38.22]",
         "93"
        ],
        [
         "TOTAL",
         "87",
         "157",
         "244"
        ]
       ],
       "shape": {
        "columns": 3,
        "rows": 3
       }
      },
      "text/html": [
       "<div>\n",
       "<style scoped>\n",
       "    .dataframe tbody tr th:only-of-type {\n",
       "        vertical-align: middle;\n",
       "    }\n",
       "\n",
       "    .dataframe tbody tr th {\n",
       "        vertical-align: top;\n",
       "    }\n",
       "\n",
       "    .dataframe thead th {\n",
       "        text-align: right;\n",
       "    }\n",
       "</style>\n",
       "<table border=\"1\" class=\"dataframe\">\n",
       "  <thead>\n",
       "    <tr style=\"text-align: right;\">\n",
       "      <th>sex</th>\n",
       "      <th>Female</th>\n",
       "      <th>Male</th>\n",
       "      <th>TOTAL</th>\n",
       "    </tr>\n",
       "    <tr>\n",
       "      <th>smoker</th>\n",
       "      <th></th>\n",
       "      <th></th>\n",
       "      <th></th>\n",
       "    </tr>\n",
       "  </thead>\n",
       "  <tbody>\n",
       "    <tr>\n",
       "      <th>No</th>\n",
       "      <td>54 [62.07]</td>\n",
       "      <td>97 [61.78]</td>\n",
       "      <td>151</td>\n",
       "    </tr>\n",
       "    <tr>\n",
       "      <th>Yes</th>\n",
       "      <td>33 [37.93]</td>\n",
       "      <td>60 [38.22]</td>\n",
       "      <td>93</td>\n",
       "    </tr>\n",
       "    <tr>\n",
       "      <th>TOTAL</th>\n",
       "      <td>87</td>\n",
       "      <td>157</td>\n",
       "      <td>244</td>\n",
       "    </tr>\n",
       "  </tbody>\n",
       "</table>\n",
       "</div>"
      ],
      "text/plain": [
       "sex         Female        Male  TOTAL\n",
       "smoker                               \n",
       "No      54 [62.07]  97 [61.78]    151\n",
       "Yes     33 [37.93]  60 [38.22]     93\n",
       "TOTAL           87         157    244"
      ]
     },
     "execution_count": 8,
     "metadata": {},
     "output_type": "execute_result"
    }
   ],
   "source": [
    "cfreq(df['smoker'],df['sex'])"
   ]
  },
  {
   "cell_type": "code",
   "execution_count": 9,
   "metadata": {},
   "outputs": [],
   "source": [
    "#Inserindo missings \n",
    "for col in df.columns:\n",
    "    df.loc[df.sample(frac=0.3).index, col] = np.nan"
   ]
  },
  {
   "cell_type": "code",
   "execution_count": 10,
   "metadata": {},
   "outputs": [
    {
     "data": {
      "application/vnd.microsoft.datawrangler.viewer.v0+json": {
       "columns": [
        {
         "name": "smoker",
         "rawType": "object",
         "type": "string"
        },
        {
         "name": "<NA>",
         "rawType": "object",
         "type": "string"
        },
        {
         "name": "Female",
         "rawType": "object",
         "type": "string"
        },
        {
         "name": "Male",
         "rawType": "object",
         "type": "string"
        },
        {
         "name": "TOTAL",
         "rawType": "int32",
         "type": "integer"
        }
       ],
       "conversionMethod": "pd.DataFrame",
       "ref": "f6e22a33-8d01-48c4-9077-e6d1a853a859",
       "rows": [
        [
         "<NA>",
         "18 [24.66]",
         "19 [31.15]",
         "36 [32.73]",
         "73"
        ],
        [
         "No",
         "37 [50.68]",
         "29 [47.54]",
         "44 [40.0]",
         "110"
        ],
        [
         "Yes",
         "18 [24.66]",
         "13 [21.31]",
         "30 [27.27]",
         "61"
        ],
        [
         "TOTAL",
         "73",
         "61",
         "110",
         "244"
        ]
       ],
       "shape": {
        "columns": 4,
        "rows": 4
       }
      },
      "text/html": [
       "<div>\n",
       "<style scoped>\n",
       "    .dataframe tbody tr th:only-of-type {\n",
       "        vertical-align: middle;\n",
       "    }\n",
       "\n",
       "    .dataframe tbody tr th {\n",
       "        vertical-align: top;\n",
       "    }\n",
       "\n",
       "    .dataframe thead th {\n",
       "        text-align: right;\n",
       "    }\n",
       "</style>\n",
       "<table border=\"1\" class=\"dataframe\">\n",
       "  <thead>\n",
       "    <tr style=\"text-align: right;\">\n",
       "      <th>sex</th>\n",
       "      <th>&lt;NA&gt;</th>\n",
       "      <th>Female</th>\n",
       "      <th>Male</th>\n",
       "      <th>TOTAL</th>\n",
       "    </tr>\n",
       "    <tr>\n",
       "      <th>smoker</th>\n",
       "      <th></th>\n",
       "      <th></th>\n",
       "      <th></th>\n",
       "      <th></th>\n",
       "    </tr>\n",
       "  </thead>\n",
       "  <tbody>\n",
       "    <tr>\n",
       "      <th>&lt;NA&gt;</th>\n",
       "      <td>18 [24.66]</td>\n",
       "      <td>19 [31.15]</td>\n",
       "      <td>36 [32.73]</td>\n",
       "      <td>73</td>\n",
       "    </tr>\n",
       "    <tr>\n",
       "      <th>No</th>\n",
       "      <td>37 [50.68]</td>\n",
       "      <td>29 [47.54]</td>\n",
       "      <td>44 [40.0]</td>\n",
       "      <td>110</td>\n",
       "    </tr>\n",
       "    <tr>\n",
       "      <th>Yes</th>\n",
       "      <td>18 [24.66]</td>\n",
       "      <td>13 [21.31]</td>\n",
       "      <td>30 [27.27]</td>\n",
       "      <td>61</td>\n",
       "    </tr>\n",
       "    <tr>\n",
       "      <th>TOTAL</th>\n",
       "      <td>73</td>\n",
       "      <td>61</td>\n",
       "      <td>110</td>\n",
       "      <td>244</td>\n",
       "    </tr>\n",
       "  </tbody>\n",
       "</table>\n",
       "</div>"
      ],
      "text/plain": [
       "sex           <NA>      Female        Male  TOTAL\n",
       "smoker                                           \n",
       "<NA>    18 [24.66]  19 [31.15]  36 [32.73]     73\n",
       "No      37 [50.68]  29 [47.54]   44 [40.0]    110\n",
       "Yes     18 [24.66]  13 [21.31]  30 [27.27]     61\n",
       "TOTAL           73          61         110    244"
      ]
     },
     "execution_count": 10,
     "metadata": {},
     "output_type": "execute_result"
    }
   ],
   "source": [
    "#Verificando com missings \n",
    "cfreq(df['smoker'],df['sex'])"
   ]
  },
  {
   "cell_type": "code",
   "execution_count": 11,
   "metadata": {},
   "outputs": [
    {
     "data": {
      "application/vnd.microsoft.datawrangler.viewer.v0+json": {
       "columns": [
        {
         "name": "smoker",
         "rawType": "object",
         "type": "string"
        },
        {
         "name": "<NA>",
         "rawType": "object",
         "type": "string"
        },
        {
         "name": "Female",
         "rawType": "object",
         "type": "string"
        },
        {
         "name": "Male",
         "rawType": "object",
         "type": "string"
        },
        {
         "name": "TOTAL",
         "rawType": "int32",
         "type": "integer"
        }
       ],
       "conversionMethod": "pd.DataFrame",
       "ref": "f0181daf-6633-451d-84b9-57cac1527b07",
       "rows": [
        [
         "<NA>",
         "18 [24.7]",
         "19 [31.1]",
         "36 [32.7]",
         "73"
        ],
        [
         "No",
         "37 [50.7]",
         "29 [47.5]",
         "44 [40.0]",
         "110"
        ],
        [
         "Yes",
         "18 [24.7]",
         "13 [21.3]",
         "30 [27.3]",
         "61"
        ],
        [
         "TOTAL",
         "73",
         "61",
         "110",
         "244"
        ]
       ],
       "shape": {
        "columns": 4,
        "rows": 4
       }
      },
      "text/html": [
       "<div>\n",
       "<style scoped>\n",
       "    .dataframe tbody tr th:only-of-type {\n",
       "        vertical-align: middle;\n",
       "    }\n",
       "\n",
       "    .dataframe tbody tr th {\n",
       "        vertical-align: top;\n",
       "    }\n",
       "\n",
       "    .dataframe thead th {\n",
       "        text-align: right;\n",
       "    }\n",
       "</style>\n",
       "<table border=\"1\" class=\"dataframe\">\n",
       "  <thead>\n",
       "    <tr style=\"text-align: right;\">\n",
       "      <th>sex</th>\n",
       "      <th>&lt;NA&gt;</th>\n",
       "      <th>Female</th>\n",
       "      <th>Male</th>\n",
       "      <th>TOTAL</th>\n",
       "    </tr>\n",
       "    <tr>\n",
       "      <th>smoker</th>\n",
       "      <th></th>\n",
       "      <th></th>\n",
       "      <th></th>\n",
       "      <th></th>\n",
       "    </tr>\n",
       "  </thead>\n",
       "  <tbody>\n",
       "    <tr>\n",
       "      <th>&lt;NA&gt;</th>\n",
       "      <td>18 [24.7]</td>\n",
       "      <td>19 [31.1]</td>\n",
       "      <td>36 [32.7]</td>\n",
       "      <td>73</td>\n",
       "    </tr>\n",
       "    <tr>\n",
       "      <th>No</th>\n",
       "      <td>37 [50.7]</td>\n",
       "      <td>29 [47.5]</td>\n",
       "      <td>44 [40.0]</td>\n",
       "      <td>110</td>\n",
       "    </tr>\n",
       "    <tr>\n",
       "      <th>Yes</th>\n",
       "      <td>18 [24.7]</td>\n",
       "      <td>13 [21.3]</td>\n",
       "      <td>30 [27.3]</td>\n",
       "      <td>61</td>\n",
       "    </tr>\n",
       "    <tr>\n",
       "      <th>TOTAL</th>\n",
       "      <td>73</td>\n",
       "      <td>61</td>\n",
       "      <td>110</td>\n",
       "      <td>244</td>\n",
       "    </tr>\n",
       "  </tbody>\n",
       "</table>\n",
       "</div>"
      ],
      "text/plain": [
       "sex          <NA>     Female       Male  TOTAL\n",
       "smoker                                        \n",
       "<NA>    18 [24.7]  19 [31.1]  36 [32.7]     73\n",
       "No      37 [50.7]  29 [47.5]  44 [40.0]    110\n",
       "Yes     18 [24.7]  13 [21.3]  30 [27.3]     61\n",
       "TOTAL          73         61        110    244"
      ]
     },
     "execution_count": 11,
     "metadata": {},
     "output_type": "execute_result"
    }
   ],
   "source": [
    "#Mudando a referencia e casas decimais \n",
    "cfreq(df['smoker'],df['sex'],ref='columns',digit=1)"
   ]
  }
 ],
 "metadata": {
  "kernelspec": {
   "display_name": "base",
   "language": "python",
   "name": "python3"
  },
  "language_info": {
   "codemirror_mode": {
    "name": "ipython",
    "version": 3
   },
   "file_extension": ".py",
   "mimetype": "text/x-python",
   "name": "python",
   "nbconvert_exporter": "python",
   "pygments_lexer": "ipython3",
   "version": "3.9.12"
  }
 },
 "nbformat": 4,
 "nbformat_minor": 4
}
