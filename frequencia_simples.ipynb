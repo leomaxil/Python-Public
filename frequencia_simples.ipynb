{
 "cells": [
  {
   "cell_type": "code",
   "execution_count": 1,
   "metadata": {},
   "outputs": [],
   "source": [
    "#Exemplos\n",
    "from frequencia_simples import freq\n",
    "\n",
    "import seaborn as sns\n",
    "\n",
    "iris = sns.load_dataset('iris')"
   ]
  },
  {
   "cell_type": "code",
   "execution_count": 2,
   "metadata": {},
   "outputs": [
    {
     "name": "stderr",
     "output_type": "stream",
     "text": [
      "c:\\Users\\Leoma\\Documents\\Python-Public\\frequencia_simples.py:39: FutureWarning: The frame.append method is deprecated and will be removed from pandas in a future version. Use pandas.concat instead.\n",
      "  temp = temp.append(missing, ignore_index=False)\n",
      "c:\\Users\\Leoma\\Documents\\Python-Public\\frequencia_simples.py:46: FutureWarning: The frame.append method is deprecated and will be removed from pandas in a future version. Use pandas.concat instead.\n",
      "  temp = temp.append(nr, ignore_index=False)\n"
     ]
    },
    {
     "data": {
      "application/vnd.microsoft.datawrangler.viewer.v0+json": {
       "columns": [
        {
         "name": "index",
         "rawType": "object",
         "type": "string"
        },
        {
         "name": "species",
         "rawType": "int64",
         "type": "integer"
        },
        {
         "name": "%",
         "rawType": "float64",
         "type": "float"
        }
       ],
       "conversionMethod": "pd.DataFrame",
       "ref": "aae58961-0ad0-4ea1-8b1a-427c2aab987b",
       "rows": [
        [
         "setosa",
         "50",
         "33.33"
        ],
        [
         "versicolor",
         "50",
         "33.33"
        ],
        [
         "virginica",
         "50",
         "33.33"
        ],
        [
         "<NA>",
         "0",
         "0.0"
        ],
        [
         "TOTAL",
         "150",
         "100.0"
        ]
       ],
       "shape": {
        "columns": 2,
        "rows": 5
       }
      },
      "text/html": [
       "<div>\n",
       "<style scoped>\n",
       "    .dataframe tbody tr th:only-of-type {\n",
       "        vertical-align: middle;\n",
       "    }\n",
       "\n",
       "    .dataframe tbody tr th {\n",
       "        vertical-align: top;\n",
       "    }\n",
       "\n",
       "    .dataframe thead th {\n",
       "        text-align: right;\n",
       "    }\n",
       "</style>\n",
       "<table border=\"1\" class=\"dataframe\">\n",
       "  <thead>\n",
       "    <tr style=\"text-align: right;\">\n",
       "      <th></th>\n",
       "      <th>species</th>\n",
       "      <th>%</th>\n",
       "    </tr>\n",
       "  </thead>\n",
       "  <tbody>\n",
       "    <tr>\n",
       "      <th>setosa</th>\n",
       "      <td>50</td>\n",
       "      <td>33.33</td>\n",
       "    </tr>\n",
       "    <tr>\n",
       "      <th>versicolor</th>\n",
       "      <td>50</td>\n",
       "      <td>33.33</td>\n",
       "    </tr>\n",
       "    <tr>\n",
       "      <th>virginica</th>\n",
       "      <td>50</td>\n",
       "      <td>33.33</td>\n",
       "    </tr>\n",
       "    <tr>\n",
       "      <th>&lt;NA&gt;</th>\n",
       "      <td>0</td>\n",
       "      <td>0.00</td>\n",
       "    </tr>\n",
       "    <tr>\n",
       "      <th>TOTAL</th>\n",
       "      <td>150</td>\n",
       "      <td>100.00</td>\n",
       "    </tr>\n",
       "  </tbody>\n",
       "</table>\n",
       "</div>"
      ],
      "text/plain": [
       "            species       %\n",
       "setosa           50   33.33\n",
       "versicolor       50   33.33\n",
       "virginica        50   33.33\n",
       "<NA>              0    0.00\n",
       "TOTAL           150  100.00"
      ]
     },
     "execution_count": 2,
     "metadata": {},
     "output_type": "execute_result"
    }
   ],
   "source": [
    "freq(iris['species'])"
   ]
  },
  {
   "cell_type": "code",
   "execution_count": 3,
   "metadata": {},
   "outputs": [
    {
     "name": "stderr",
     "output_type": "stream",
     "text": [
      "c:\\Users\\Leoma\\Documents\\Python-Public\\frequencia_simples.py:39: FutureWarning: The frame.append method is deprecated and will be removed from pandas in a future version. Use pandas.concat instead.\n",
      "  temp = temp.append(missing, ignore_index=False)\n",
      "c:\\Users\\Leoma\\Documents\\Python-Public\\frequencia_simples.py:46: FutureWarning: The frame.append method is deprecated and will be removed from pandas in a future version. Use pandas.concat instead.\n",
      "  temp = temp.append(nr, ignore_index=False)\n"
     ]
    },
    {
     "data": {
      "application/vnd.microsoft.datawrangler.viewer.v0+json": {
       "columns": [
        {
         "name": "index",
         "rawType": "object",
         "type": "string"
        },
        {
         "name": "sepal_length",
         "rawType": "int64",
         "type": "integer"
        },
        {
         "name": "%",
         "rawType": "float64",
         "type": "float"
        }
       ],
       "conversionMethod": "pd.DataFrame",
       "ref": "d5bda443-a57d-428b-91df-5089f7849df8",
       "rows": [
        [
         "4.3",
         "1",
         "0.667"
        ],
        [
         "4.4",
         "3",
         "2.0"
        ],
        [
         "4.5",
         "1",
         "0.667"
        ],
        [
         "4.6",
         "4",
         "2.667"
        ],
        [
         "4.7",
         "2",
         "1.333"
        ],
        [
         "4.8",
         "5",
         "3.333"
        ],
        [
         "4.9",
         "6",
         "4.0"
        ],
        [
         "5.0",
         "10",
         "6.667"
        ],
        [
         "5.1",
         "9",
         "6.0"
        ],
        [
         "5.2",
         "4",
         "2.667"
        ],
        [
         "5.3",
         "1",
         "0.667"
        ],
        [
         "5.4",
         "6",
         "4.0"
        ],
        [
         "5.5",
         "7",
         "4.667"
        ],
        [
         "5.6",
         "6",
         "4.0"
        ],
        [
         "5.7",
         "8",
         "5.333"
        ],
        [
         "5.8",
         "7",
         "4.667"
        ],
        [
         "5.9",
         "3",
         "2.0"
        ],
        [
         "6.0",
         "6",
         "4.0"
        ],
        [
         "6.1",
         "6",
         "4.0"
        ],
        [
         "6.2",
         "4",
         "2.667"
        ],
        [
         "6.3",
         "9",
         "6.0"
        ],
        [
         "6.4",
         "7",
         "4.667"
        ],
        [
         "6.5",
         "5",
         "3.333"
        ],
        [
         "6.6",
         "2",
         "1.333"
        ],
        [
         "6.7",
         "8",
         "5.333"
        ],
        [
         "6.8",
         "3",
         "2.0"
        ],
        [
         "6.9",
         "4",
         "2.667"
        ],
        [
         "7.0",
         "1",
         "0.667"
        ],
        [
         "7.1",
         "1",
         "0.667"
        ],
        [
         "7.2",
         "3",
         "2.0"
        ],
        [
         "7.3",
         "1",
         "0.667"
        ],
        [
         "7.4",
         "1",
         "0.667"
        ],
        [
         "7.6",
         "1",
         "0.667"
        ],
        [
         "7.7",
         "4",
         "2.667"
        ],
        [
         "7.9",
         "1",
         "0.667"
        ],
        [
         "<NA>",
         "0",
         "0.0"
        ],
        [
         "TOTAL",
         "150",
         "100.0"
        ]
       ],
       "shape": {
        "columns": 2,
        "rows": 37
       }
      },
      "text/html": [
       "<div>\n",
       "<style scoped>\n",
       "    .dataframe tbody tr th:only-of-type {\n",
       "        vertical-align: middle;\n",
       "    }\n",
       "\n",
       "    .dataframe tbody tr th {\n",
       "        vertical-align: top;\n",
       "    }\n",
       "\n",
       "    .dataframe thead th {\n",
       "        text-align: right;\n",
       "    }\n",
       "</style>\n",
       "<table border=\"1\" class=\"dataframe\">\n",
       "  <thead>\n",
       "    <tr style=\"text-align: right;\">\n",
       "      <th></th>\n",
       "      <th>sepal_length</th>\n",
       "      <th>%</th>\n",
       "    </tr>\n",
       "  </thead>\n",
       "  <tbody>\n",
       "    <tr>\n",
       "      <th>4.3</th>\n",
       "      <td>1</td>\n",
       "      <td>0.667</td>\n",
       "    </tr>\n",
       "    <tr>\n",
       "      <th>4.4</th>\n",
       "      <td>3</td>\n",
       "      <td>2.000</td>\n",
       "    </tr>\n",
       "    <tr>\n",
       "      <th>4.5</th>\n",
       "      <td>1</td>\n",
       "      <td>0.667</td>\n",
       "    </tr>\n",
       "    <tr>\n",
       "      <th>4.6</th>\n",
       "      <td>4</td>\n",
       "      <td>2.667</td>\n",
       "    </tr>\n",
       "    <tr>\n",
       "      <th>4.7</th>\n",
       "      <td>2</td>\n",
       "      <td>1.333</td>\n",
       "    </tr>\n",
       "    <tr>\n",
       "      <th>4.8</th>\n",
       "      <td>5</td>\n",
       "      <td>3.333</td>\n",
       "    </tr>\n",
       "    <tr>\n",
       "      <th>4.9</th>\n",
       "      <td>6</td>\n",
       "      <td>4.000</td>\n",
       "    </tr>\n",
       "    <tr>\n",
       "      <th>5.0</th>\n",
       "      <td>10</td>\n",
       "      <td>6.667</td>\n",
       "    </tr>\n",
       "    <tr>\n",
       "      <th>5.1</th>\n",
       "      <td>9</td>\n",
       "      <td>6.000</td>\n",
       "    </tr>\n",
       "    <tr>\n",
       "      <th>5.2</th>\n",
       "      <td>4</td>\n",
       "      <td>2.667</td>\n",
       "    </tr>\n",
       "    <tr>\n",
       "      <th>5.3</th>\n",
       "      <td>1</td>\n",
       "      <td>0.667</td>\n",
       "    </tr>\n",
       "    <tr>\n",
       "      <th>5.4</th>\n",
       "      <td>6</td>\n",
       "      <td>4.000</td>\n",
       "    </tr>\n",
       "    <tr>\n",
       "      <th>5.5</th>\n",
       "      <td>7</td>\n",
       "      <td>4.667</td>\n",
       "    </tr>\n",
       "    <tr>\n",
       "      <th>5.6</th>\n",
       "      <td>6</td>\n",
       "      <td>4.000</td>\n",
       "    </tr>\n",
       "    <tr>\n",
       "      <th>5.7</th>\n",
       "      <td>8</td>\n",
       "      <td>5.333</td>\n",
       "    </tr>\n",
       "    <tr>\n",
       "      <th>5.8</th>\n",
       "      <td>7</td>\n",
       "      <td>4.667</td>\n",
       "    </tr>\n",
       "    <tr>\n",
       "      <th>5.9</th>\n",
       "      <td>3</td>\n",
       "      <td>2.000</td>\n",
       "    </tr>\n",
       "    <tr>\n",
       "      <th>6.0</th>\n",
       "      <td>6</td>\n",
       "      <td>4.000</td>\n",
       "    </tr>\n",
       "    <tr>\n",
       "      <th>6.1</th>\n",
       "      <td>6</td>\n",
       "      <td>4.000</td>\n",
       "    </tr>\n",
       "    <tr>\n",
       "      <th>6.2</th>\n",
       "      <td>4</td>\n",
       "      <td>2.667</td>\n",
       "    </tr>\n",
       "    <tr>\n",
       "      <th>6.3</th>\n",
       "      <td>9</td>\n",
       "      <td>6.000</td>\n",
       "    </tr>\n",
       "    <tr>\n",
       "      <th>6.4</th>\n",
       "      <td>7</td>\n",
       "      <td>4.667</td>\n",
       "    </tr>\n",
       "    <tr>\n",
       "      <th>6.5</th>\n",
       "      <td>5</td>\n",
       "      <td>3.333</td>\n",
       "    </tr>\n",
       "    <tr>\n",
       "      <th>6.6</th>\n",
       "      <td>2</td>\n",
       "      <td>1.333</td>\n",
       "    </tr>\n",
       "    <tr>\n",
       "      <th>6.7</th>\n",
       "      <td>8</td>\n",
       "      <td>5.333</td>\n",
       "    </tr>\n",
       "    <tr>\n",
       "      <th>6.8</th>\n",
       "      <td>3</td>\n",
       "      <td>2.000</td>\n",
       "    </tr>\n",
       "    <tr>\n",
       "      <th>6.9</th>\n",
       "      <td>4</td>\n",
       "      <td>2.667</td>\n",
       "    </tr>\n",
       "    <tr>\n",
       "      <th>7.0</th>\n",
       "      <td>1</td>\n",
       "      <td>0.667</td>\n",
       "    </tr>\n",
       "    <tr>\n",
       "      <th>7.1</th>\n",
       "      <td>1</td>\n",
       "      <td>0.667</td>\n",
       "    </tr>\n",
       "    <tr>\n",
       "      <th>7.2</th>\n",
       "      <td>3</td>\n",
       "      <td>2.000</td>\n",
       "    </tr>\n",
       "    <tr>\n",
       "      <th>7.3</th>\n",
       "      <td>1</td>\n",
       "      <td>0.667</td>\n",
       "    </tr>\n",
       "    <tr>\n",
       "      <th>7.4</th>\n",
       "      <td>1</td>\n",
       "      <td>0.667</td>\n",
       "    </tr>\n",
       "    <tr>\n",
       "      <th>7.6</th>\n",
       "      <td>1</td>\n",
       "      <td>0.667</td>\n",
       "    </tr>\n",
       "    <tr>\n",
       "      <th>7.7</th>\n",
       "      <td>4</td>\n",
       "      <td>2.667</td>\n",
       "    </tr>\n",
       "    <tr>\n",
       "      <th>7.9</th>\n",
       "      <td>1</td>\n",
       "      <td>0.667</td>\n",
       "    </tr>\n",
       "    <tr>\n",
       "      <th>&lt;NA&gt;</th>\n",
       "      <td>0</td>\n",
       "      <td>0.000</td>\n",
       "    </tr>\n",
       "    <tr>\n",
       "      <th>TOTAL</th>\n",
       "      <td>150</td>\n",
       "      <td>100.000</td>\n",
       "    </tr>\n",
       "  </tbody>\n",
       "</table>\n",
       "</div>"
      ],
      "text/plain": [
       "       sepal_length        %\n",
       "4.3               1    0.667\n",
       "4.4               3    2.000\n",
       "4.5               1    0.667\n",
       "4.6               4    2.667\n",
       "4.7               2    1.333\n",
       "4.8               5    3.333\n",
       "4.9               6    4.000\n",
       "5.0              10    6.667\n",
       "5.1               9    6.000\n",
       "5.2               4    2.667\n",
       "5.3               1    0.667\n",
       "5.4               6    4.000\n",
       "5.5               7    4.667\n",
       "5.6               6    4.000\n",
       "5.7               8    5.333\n",
       "5.8               7    4.667\n",
       "5.9               3    2.000\n",
       "6.0               6    4.000\n",
       "6.1               6    4.000\n",
       "6.2               4    2.667\n",
       "6.3               9    6.000\n",
       "6.4               7    4.667\n",
       "6.5               5    3.333\n",
       "6.6               2    1.333\n",
       "6.7               8    5.333\n",
       "6.8               3    2.000\n",
       "6.9               4    2.667\n",
       "7.0               1    0.667\n",
       "7.1               1    0.667\n",
       "7.2               3    2.000\n",
       "7.3               1    0.667\n",
       "7.4               1    0.667\n",
       "7.6               1    0.667\n",
       "7.7               4    2.667\n",
       "7.9               1    0.667\n",
       "<NA>              0    0.000\n",
       "TOTAL           150  100.000"
      ]
     },
     "execution_count": 3,
     "metadata": {},
     "output_type": "execute_result"
    }
   ],
   "source": [
    "freq(iris['sepal_length'],ordena_nome=True,digitos=3)"
   ]
  }
 ],
 "metadata": {
  "kernelspec": {
   "display_name": "base",
   "language": "python",
   "name": "python3"
  },
  "language_info": {
   "codemirror_mode": {
    "name": "ipython",
    "version": 3
   },
   "file_extension": ".py",
   "mimetype": "text/x-python",
   "name": "python",
   "nbconvert_exporter": "python",
   "pygments_lexer": "ipython3",
   "version": "3.9.12"
  }
 },
 "nbformat": 4,
 "nbformat_minor": 4
}
